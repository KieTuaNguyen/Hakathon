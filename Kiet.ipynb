{
 "cells": [
  {
   "cell_type": "code",
   "execution_count": 28,
   "metadata": {},
   "outputs": [],
   "source": [
    "import seaborn as sns\n",
    "import numpy as np\n",
    "import pandas as pd\n",
    "import matplotlib.pyplot as plt\n",
    "import matplotlib.image as mpimg\n",
    "%matplotlib inline\n"
   ]
  },
  {
   "cell_type": "markdown",
   "metadata": {},
   "source": [
    "### Undestanding the data"
   ]
  },
  {
   "cell_type": "code",
   "execution_count": 29,
   "metadata": {},
   "outputs": [
    {
     "data": {
      "text/html": [
       "<div>\n",
       "<style scoped>\n",
       "    .dataframe tbody tr th:only-of-type {\n",
       "        vertical-align: middle;\n",
       "    }\n",
       "\n",
       "    .dataframe tbody tr th {\n",
       "        vertical-align: top;\n",
       "    }\n",
       "\n",
       "    .dataframe thead th {\n",
       "        text-align: right;\n",
       "    }\n",
       "</style>\n",
       "<table border=\"1\" class=\"dataframe\">\n",
       "  <thead>\n",
       "    <tr style=\"text-align: right;\">\n",
       "      <th></th>\n",
       "      <th>id</th>\n",
       "      <th>name</th>\n",
       "      <th>host_id</th>\n",
       "      <th>host_name</th>\n",
       "      <th>neighbourhood_group</th>\n",
       "      <th>neighbourhood</th>\n",
       "      <th>latitude</th>\n",
       "      <th>longitude</th>\n",
       "      <th>room_type</th>\n",
       "      <th>price</th>\n",
       "      <th>minimum_nights</th>\n",
       "      <th>number_of_reviews</th>\n",
       "      <th>last_review</th>\n",
       "      <th>reviews_per_month</th>\n",
       "      <th>calculated_host_listings_count</th>\n",
       "      <th>availability_365</th>\n",
       "      <th>number_of_reviews_ltm</th>\n",
       "      <th>license</th>\n",
       "    </tr>\n",
       "  </thead>\n",
       "  <tbody>\n",
       "    <tr>\n",
       "      <th>0</th>\n",
       "      <td>45305964</td>\n",
       "      <td>Lumpini ville Nakhon in - River view studio Cozy</td>\n",
       "      <td>177103834</td>\n",
       "      <td>Thanat</td>\n",
       "      <td>NaN</td>\n",
       "      <td>Bang Sue</td>\n",
       "      <td>13.83689</td>\n",
       "      <td>100.50330</td>\n",
       "      <td>Entire home/apt</td>\n",
       "      <td>388</td>\n",
       "      <td>360</td>\n",
       "      <td>0</td>\n",
       "      <td>NaN</td>\n",
       "      <td>NaN</td>\n",
       "      <td>1</td>\n",
       "      <td>365</td>\n",
       "      <td>0</td>\n",
       "      <td>NaN</td>\n",
       "    </tr>\n",
       "    <tr>\n",
       "      <th>1</th>\n",
       "      <td>8975471</td>\n",
       "      <td>[Monthly] Plum Condominium Paholyothin 89</td>\n",
       "      <td>46549310</td>\n",
       "      <td>Chakree</td>\n",
       "      <td>NaN</td>\n",
       "      <td>Don Mueang</td>\n",
       "      <td>13.96994</td>\n",
       "      <td>100.61852</td>\n",
       "      <td>Private room</td>\n",
       "      <td>5000</td>\n",
       "      <td>300</td>\n",
       "      <td>0</td>\n",
       "      <td>NaN</td>\n",
       "      <td>NaN</td>\n",
       "      <td>1</td>\n",
       "      <td>362</td>\n",
       "      <td>0</td>\n",
       "      <td>NaN</td>\n",
       "    </tr>\n",
       "    <tr>\n",
       "      <th>2</th>\n",
       "      <td>27934</td>\n",
       "      <td>Nice room with superb city view</td>\n",
       "      <td>120437</td>\n",
       "      <td>Nuttee</td>\n",
       "      <td>NaN</td>\n",
       "      <td>Ratchathewi</td>\n",
       "      <td>13.75983</td>\n",
       "      <td>100.54134</td>\n",
       "      <td>Entire home/apt</td>\n",
       "      <td>2034</td>\n",
       "      <td>3</td>\n",
       "      <td>65</td>\n",
       "      <td>2020-01-06</td>\n",
       "      <td>0.51</td>\n",
       "      <td>2</td>\n",
       "      <td>362</td>\n",
       "      <td>0</td>\n",
       "      <td>NaN</td>\n",
       "    </tr>\n",
       "    <tr>\n",
       "      <th>3</th>\n",
       "      <td>27979</td>\n",
       "      <td>Easy going landlord,easy place</td>\n",
       "      <td>120541</td>\n",
       "      <td>Emy</td>\n",
       "      <td>NaN</td>\n",
       "      <td>Bang Na</td>\n",
       "      <td>13.66818</td>\n",
       "      <td>100.61674</td>\n",
       "      <td>Private room</td>\n",
       "      <td>1405</td>\n",
       "      <td>1</td>\n",
       "      <td>0</td>\n",
       "      <td>NaN</td>\n",
       "      <td>NaN</td>\n",
       "      <td>2</td>\n",
       "      <td>358</td>\n",
       "      <td>0</td>\n",
       "      <td>NaN</td>\n",
       "    </tr>\n",
       "    <tr>\n",
       "      <th>4</th>\n",
       "      <td>31508092</td>\n",
       "      <td>Room for rent good and cheap</td>\n",
       "      <td>223483764</td>\n",
       "      <td>Huangseng</td>\n",
       "      <td>NaN</td>\n",
       "      <td>Bang Na</td>\n",
       "      <td>13.66075</td>\n",
       "      <td>100.57991</td>\n",
       "      <td>Private room</td>\n",
       "      <td>700</td>\n",
       "      <td>1</td>\n",
       "      <td>0</td>\n",
       "      <td>NaN</td>\n",
       "      <td>NaN</td>\n",
       "      <td>1</td>\n",
       "      <td>365</td>\n",
       "      <td>0</td>\n",
       "      <td>NaN</td>\n",
       "    </tr>\n",
       "    <tr>\n",
       "      <th>5</th>\n",
       "      <td>28745</td>\n",
       "      <td>modern-style apartment in Bangkok</td>\n",
       "      <td>123784</td>\n",
       "      <td>Familyroom</td>\n",
       "      <td>NaN</td>\n",
       "      <td>Bang Kapi</td>\n",
       "      <td>13.75232</td>\n",
       "      <td>100.62402</td>\n",
       "      <td>Private room</td>\n",
       "      <td>800</td>\n",
       "      <td>60</td>\n",
       "      <td>0</td>\n",
       "      <td>NaN</td>\n",
       "      <td>NaN</td>\n",
       "      <td>1</td>\n",
       "      <td>365</td>\n",
       "      <td>0</td>\n",
       "      <td>NaN</td>\n",
       "    </tr>\n",
       "  </tbody>\n",
       "</table>\n",
       "</div>"
      ],
      "text/plain": [
       "         id                                              name    host_id  \\\n",
       "0  45305964  Lumpini ville Nakhon in - River view studio Cozy  177103834   \n",
       "1   8975471         [Monthly] Plum Condominium Paholyothin 89   46549310   \n",
       "2     27934                   Nice room with superb city view     120437   \n",
       "3     27979                    Easy going landlord,easy place     120541   \n",
       "4  31508092                      Room for rent good and cheap  223483764   \n",
       "5     28745                 modern-style apartment in Bangkok     123784   \n",
       "\n",
       "    host_name  neighbourhood_group neighbourhood  latitude  longitude  \\\n",
       "0      Thanat                  NaN      Bang Sue  13.83689  100.50330   \n",
       "1     Chakree                  NaN    Don Mueang  13.96994  100.61852   \n",
       "2      Nuttee                  NaN   Ratchathewi  13.75983  100.54134   \n",
       "3         Emy                  NaN       Bang Na  13.66818  100.61674   \n",
       "4   Huangseng                  NaN       Bang Na  13.66075  100.57991   \n",
       "5  Familyroom                  NaN     Bang Kapi  13.75232  100.62402   \n",
       "\n",
       "         room_type  price  minimum_nights  number_of_reviews last_review  \\\n",
       "0  Entire home/apt    388             360                  0         NaN   \n",
       "1     Private room   5000             300                  0         NaN   \n",
       "2  Entire home/apt   2034               3                 65  2020-01-06   \n",
       "3     Private room   1405               1                  0         NaN   \n",
       "4     Private room    700               1                  0         NaN   \n",
       "5     Private room    800              60                  0         NaN   \n",
       "\n",
       "   reviews_per_month  calculated_host_listings_count  availability_365  \\\n",
       "0                NaN                               1               365   \n",
       "1                NaN                               1               362   \n",
       "2               0.51                               2               362   \n",
       "3                NaN                               2               358   \n",
       "4                NaN                               1               365   \n",
       "5                NaN                               1               365   \n",
       "\n",
       "   number_of_reviews_ltm  license  \n",
       "0                      0      NaN  \n",
       "1                      0      NaN  \n",
       "2                      0      NaN  \n",
       "3                      0      NaN  \n",
       "4                      0      NaN  \n",
       "5                      0      NaN  "
      ]
     },
     "execution_count": 29,
     "metadata": {},
     "output_type": "execute_result"
    }
   ],
   "source": [
    "path = '/Users/PC/Desktop/Deadline/'\n",
    "airbnb = pd.read_csv(path + 'listings.csv')\n",
    "airbnb.head(6)"
   ]
  },
  {
   "cell_type": "code",
   "execution_count": 30,
   "metadata": {},
   "outputs": [
    {
     "data": {
      "text/plain": [
       "16640"
      ]
     },
     "execution_count": 30,
     "metadata": {},
     "output_type": "execute_result"
    }
   ],
   "source": [
    "#checking amount of rows\n",
    "len(airbnb)"
   ]
  },
  {
   "cell_type": "code",
   "execution_count": 31,
   "metadata": {},
   "outputs": [
    {
     "data": {
      "text/plain": [
       "18"
      ]
     },
     "execution_count": 31,
     "metadata": {},
     "output_type": "execute_result"
    }
   ],
   "source": [
    "#checking amount of columns\n",
    "len(airbnb.columns)"
   ]
  },
  {
   "cell_type": "code",
   "execution_count": 32,
   "metadata": {},
   "outputs": [
    {
     "data": {
      "text/plain": [
       "id                                  int64\n",
       "name                               object\n",
       "host_id                             int64\n",
       "host_name                          object\n",
       "neighbourhood_group               float64\n",
       "neighbourhood                      object\n",
       "latitude                          float64\n",
       "longitude                         float64\n",
       "room_type                          object\n",
       "price                               int64\n",
       "minimum_nights                      int64\n",
       "number_of_reviews                   int64\n",
       "last_review                        object\n",
       "reviews_per_month                 float64\n",
       "calculated_host_listings_count      int64\n",
       "availability_365                    int64\n",
       "number_of_reviews_ltm               int64\n",
       "license                           float64\n",
       "dtype: object"
      ]
     },
     "execution_count": 32,
     "metadata": {},
     "output_type": "execute_result"
    }
   ],
   "source": [
    "#checking datatype of each column\n",
    "airbnb.dtypes"
   ]
  },
  {
   "cell_type": "code",
   "execution_count": 33,
   "metadata": {},
   "outputs": [
    {
     "data": {
      "text/plain": [
       "id                                    0\n",
       "name                                  9\n",
       "host_id                               0\n",
       "host_name                             0\n",
       "neighbourhood_group               16640\n",
       "neighbourhood                         0\n",
       "latitude                              0\n",
       "longitude                             0\n",
       "room_type                             0\n",
       "price                                 0\n",
       "minimum_nights                        0\n",
       "number_of_reviews                     0\n",
       "last_review                        6573\n",
       "reviews_per_month                  6573\n",
       "calculated_host_listings_count        0\n",
       "availability_365                      0\n",
       "number_of_reviews_ltm                 0\n",
       "license                           16640\n",
       "dtype: int64"
      ]
     },
     "execution_count": 33,
     "metadata": {},
     "output_type": "execute_result"
    }
   ],
   "source": [
    "#showing how many nulls are found in each column in dataset\n",
    "airbnb.isnull().sum()"
   ]
  },
  {
   "cell_type": "markdown",
   "metadata": {},
   "source": [
    "### Cleaning the \"Unclean\" Data"
   ]
  },
  {
   "cell_type": "code",
   "execution_count": 34,
   "metadata": {},
   "outputs": [
    {
     "data": {
      "text/html": [
       "<div>\n",
       "<style scoped>\n",
       "    .dataframe tbody tr th:only-of-type {\n",
       "        vertical-align: middle;\n",
       "    }\n",
       "\n",
       "    .dataframe tbody tr th {\n",
       "        vertical-align: top;\n",
       "    }\n",
       "\n",
       "    .dataframe thead th {\n",
       "        text-align: right;\n",
       "    }\n",
       "</style>\n",
       "<table border=\"1\" class=\"dataframe\">\n",
       "  <thead>\n",
       "    <tr style=\"text-align: right;\">\n",
       "      <th></th>\n",
       "      <th>name</th>\n",
       "      <th>host_id</th>\n",
       "      <th>host_name</th>\n",
       "      <th>neighbourhood_group</th>\n",
       "      <th>neighbourhood</th>\n",
       "      <th>latitude</th>\n",
       "      <th>longitude</th>\n",
       "      <th>room_type</th>\n",
       "      <th>price</th>\n",
       "      <th>minimum_nights</th>\n",
       "      <th>number_of_reviews</th>\n",
       "      <th>reviews_per_month</th>\n",
       "      <th>calculated_host_listings_count</th>\n",
       "      <th>availability_365</th>\n",
       "      <th>number_of_reviews_ltm</th>\n",
       "      <th>license</th>\n",
       "    </tr>\n",
       "  </thead>\n",
       "  <tbody>\n",
       "    <tr>\n",
       "      <th>0</th>\n",
       "      <td>Lumpini ville Nakhon in - River view studio Cozy</td>\n",
       "      <td>177103834</td>\n",
       "      <td>Thanat</td>\n",
       "      <td>NaN</td>\n",
       "      <td>Bang Sue</td>\n",
       "      <td>13.83689</td>\n",
       "      <td>100.50330</td>\n",
       "      <td>Entire home/apt</td>\n",
       "      <td>388</td>\n",
       "      <td>360</td>\n",
       "      <td>0</td>\n",
       "      <td>NaN</td>\n",
       "      <td>1</td>\n",
       "      <td>365</td>\n",
       "      <td>0</td>\n",
       "      <td>NaN</td>\n",
       "    </tr>\n",
       "    <tr>\n",
       "      <th>1</th>\n",
       "      <td>[Monthly] Plum Condominium Paholyothin 89</td>\n",
       "      <td>46549310</td>\n",
       "      <td>Chakree</td>\n",
       "      <td>NaN</td>\n",
       "      <td>Don Mueang</td>\n",
       "      <td>13.96994</td>\n",
       "      <td>100.61852</td>\n",
       "      <td>Private room</td>\n",
       "      <td>5000</td>\n",
       "      <td>300</td>\n",
       "      <td>0</td>\n",
       "      <td>NaN</td>\n",
       "      <td>1</td>\n",
       "      <td>362</td>\n",
       "      <td>0</td>\n",
       "      <td>NaN</td>\n",
       "    </tr>\n",
       "    <tr>\n",
       "      <th>2</th>\n",
       "      <td>Nice room with superb city view</td>\n",
       "      <td>120437</td>\n",
       "      <td>Nuttee</td>\n",
       "      <td>NaN</td>\n",
       "      <td>Ratchathewi</td>\n",
       "      <td>13.75983</td>\n",
       "      <td>100.54134</td>\n",
       "      <td>Entire home/apt</td>\n",
       "      <td>2034</td>\n",
       "      <td>3</td>\n",
       "      <td>65</td>\n",
       "      <td>0.51</td>\n",
       "      <td>2</td>\n",
       "      <td>362</td>\n",
       "      <td>0</td>\n",
       "      <td>NaN</td>\n",
       "    </tr>\n",
       "  </tbody>\n",
       "</table>\n",
       "</div>"
      ],
      "text/plain": [
       "                                               name    host_id host_name  \\\n",
       "0  Lumpini ville Nakhon in - River view studio Cozy  177103834    Thanat   \n",
       "1         [Monthly] Plum Condominium Paholyothin 89   46549310   Chakree   \n",
       "2                   Nice room with superb city view     120437    Nuttee   \n",
       "\n",
       "   neighbourhood_group neighbourhood  latitude  longitude        room_type  \\\n",
       "0                  NaN      Bang Sue  13.83689  100.50330  Entire home/apt   \n",
       "1                  NaN    Don Mueang  13.96994  100.61852     Private room   \n",
       "2                  NaN   Ratchathewi  13.75983  100.54134  Entire home/apt   \n",
       "\n",
       "   price  minimum_nights  number_of_reviews  reviews_per_month  \\\n",
       "0    388             360                  0                NaN   \n",
       "1   5000             300                  0                NaN   \n",
       "2   2034               3                 65               0.51   \n",
       "\n",
       "   calculated_host_listings_count  availability_365  number_of_reviews_ltm  \\\n",
       "0                               1               365                      0   \n",
       "1                               1               362                      0   \n",
       "2                               2               362                      0   \n",
       "\n",
       "   license  \n",
       "0      NaN  \n",
       "1      NaN  \n",
       "2      NaN  "
      ]
     },
     "execution_count": 34,
     "metadata": {},
     "output_type": "execute_result"
    }
   ],
   "source": [
    "#dropping columns that are not significant or could be unethical to use for our future data exploration and predictions\n",
    "airbnb.drop(['id', 'last_review'], axis=1, inplace=True)\n",
    "#examing the changes\n",
    "airbnb.head(3)"
   ]
  },
  {
   "cell_type": "code",
   "execution_count": 35,
   "metadata": {},
   "outputs": [
    {
     "data": {
      "text/plain": [
       "0"
      ]
     },
     "execution_count": 35,
     "metadata": {},
     "output_type": "execute_result"
    }
   ],
   "source": [
    "#replacing all NaN values in 'reviews_per_month' with 0\n",
    "airbnb.fillna({'reviews_per_month': 0}, inplace=True)\n",
    "#examing changes\n",
    "airbnb.reviews_per_month.isnull().sum()\n"
   ]
  },
  {
   "cell_type": "markdown",
   "metadata": {},
   "source": [
    "### Undestanding the data"
   ]
  },
  {
   "cell_type": "code",
   "execution_count": 36,
   "metadata": {},
   "outputs": [
    {
     "data": {
      "text/plain": [
       "50"
      ]
     },
     "execution_count": 36,
     "metadata": {},
     "output_type": "execute_result"
    }
   ],
   "source": [
    "#examining the unique values of neighbourhood as this column will appear very handy for later analysis\n",
    "len(airbnb.neighbourhood.unique())"
   ]
  },
  {
   "cell_type": "code",
   "execution_count": 37,
   "metadata": {},
   "outputs": [
    {
     "data": {
      "text/plain": [
       "array(['Bang Sue', 'Don Mueang', 'Ratchathewi', 'Bang Na', 'Bang Kapi',\n",
       "       'Pra Wet', 'Lat Krabang', 'Suanluang', 'Din Daeng', 'Rat Burana',\n",
       "       'Bang Rak', 'Sathon', 'Phaya Thai', 'Chatu Chak', 'Khlong Toei',\n",
       "       'Vadhana', 'Huai Khwang', 'Nong Chok', 'Phra Khanong', 'Lak Si',\n",
       "       'Khlong San', 'Yan na wa', 'Bang Kho laen', 'Bang Khen',\n",
       "       'Thon buri', 'Sai Mai', 'Parthum Wan', 'Saphan Sung',\n",
       "       'Samphanthawong', 'Min Buri', 'Bangkok Yai', 'Phasi Charoen',\n",
       "       'Phra Nakhon', 'Wang Thong Lang', 'Dusit', 'Bueng Kum',\n",
       "       'Bang Phlat', 'Chom Thong', 'Khan Na Yao', 'Khlong Sam Wa',\n",
       "       'Lat Phrao', 'Bangkok Noi', 'Nong Khaem', 'Pom Prap Sattru Phai',\n",
       "       'Thawi Watthana', 'Bang Khae', 'Thung khru', 'Bang Khun thain',\n",
       "       'Taling Chan', 'Bang Bon'], dtype=object)"
      ]
     },
     "execution_count": 37,
     "metadata": {},
     "output_type": "execute_result"
    }
   ],
   "source": [
    "#examining the unique values of neighbourhood as this column will appear very handy for later analysis\n",
    "airbnb.neighbourhood.unique()\n"
   ]
  },
  {
   "cell_type": "code",
   "execution_count": 38,
   "metadata": {},
   "outputs": [
    {
     "data": {
      "text/plain": [
       "array(['Entire home/apt', 'Private room', 'Shared room', 'Hotel room'],\n",
       "      dtype=object)"
      ]
     },
     "execution_count": 38,
     "metadata": {},
     "output_type": "execute_result"
    }
   ],
   "source": [
    "#examining the unique values of room_type as this column will appear very handy for later analysis\n",
    "airbnb.room_type.unique()"
   ]
  },
  {
   "cell_type": "markdown",
   "metadata": {},
   "source": [
    "### Exploring and Visualizing Data"
   ]
  },
  {
   "cell_type": "code",
   "execution_count": 39,
   "metadata": {},
   "outputs": [
    {
     "data": {
      "text/plain": [
       "201677068    207\n",
       "52161947      91\n",
       "26736483      84\n",
       "187786849     69\n",
       "68154488      62\n",
       "228535635     62\n",
       "342113311     57\n",
       "62257044      55\n",
       "270442733     52\n",
       "8444643       52\n",
       "Name: host_id, dtype: int64"
      ]
     },
     "execution_count": 39,
     "metadata": {},
     "output_type": "execute_result"
    }
   ],
   "source": [
    "#let's see what hosts (IDs) have the most listings on Airbnb platform and taking advantage of this service\n",
    "top_host_id = airbnb.host_id.value_counts().head(10)\n",
    "top_host_id"
   ]
  },
  {
   "cell_type": "code",
   "execution_count": 40,
   "metadata": {},
   "outputs": [
    {
     "data": {
      "text/plain": [
       "Curry       207\n",
       "Noons        91\n",
       "K            86\n",
       "Pornchai     74\n",
       "Gravity      69\n",
       "Bee          65\n",
       "Alex         64\n",
       "Dusadee      62\n",
       "Zuzu         59\n",
       "George       58\n",
       "Name: host_name, dtype: int64"
      ]
     },
     "execution_count": 40,
     "metadata": {},
     "output_type": "execute_result"
    }
   ],
   "source": [
    "#let's see what hosts (Names) have the most listings on Airbnb platform and taking advantage of this service\n",
    "top_host = airbnb.host_name.value_counts().head(10)\n",
    "top_host"
   ]
  },
  {
   "cell_type": "code",
   "execution_count": 41,
   "metadata": {},
   "outputs": [
    {
     "data": {
      "text/plain": [
       "207"
      ]
     },
     "execution_count": 41,
     "metadata": {},
     "output_type": "execute_result"
    }
   ],
   "source": [
    "#coming back to our dataset we can confirm our fidnings with already existing column called 'calculated_host_listings_count'\n",
    "top_host_check = airbnb.calculated_host_listings_count.max()\n",
    "top_host_check"
   ]
  },
  {
   "cell_type": "code",
   "execution_count": 49,
   "metadata": {},
   "outputs": [
    {
     "data": {
      "text/html": [
       "<div>\n",
       "<style scoped>\n",
       "    .dataframe tbody tr th:only-of-type {\n",
       "        vertical-align: middle;\n",
       "    }\n",
       "\n",
       "    .dataframe tbody tr th {\n",
       "        vertical-align: top;\n",
       "    }\n",
       "\n",
       "    .dataframe thead th {\n",
       "        text-align: right;\n",
       "    }\n",
       "</style>\n",
       "<table border=\"1\" class=\"dataframe\">\n",
       "  <thead>\n",
       "    <tr style=\"text-align: right;\">\n",
       "      <th></th>\n",
       "      <th>host_name</th>\n",
       "      <th>P_Count</th>\n",
       "    </tr>\n",
       "  </thead>\n",
       "  <tbody>\n",
       "    <tr>\n",
       "      <th>0</th>\n",
       "      <td>Curry</td>\n",
       "      <td>207</td>\n",
       "    </tr>\n",
       "    <tr>\n",
       "      <th>1</th>\n",
       "      <td>Noons</td>\n",
       "      <td>91</td>\n",
       "    </tr>\n",
       "    <tr>\n",
       "      <th>2</th>\n",
       "      <td>K</td>\n",
       "      <td>86</td>\n",
       "    </tr>\n",
       "    <tr>\n",
       "      <th>3</th>\n",
       "      <td>Pornchai</td>\n",
       "      <td>74</td>\n",
       "    </tr>\n",
       "    <tr>\n",
       "      <th>4</th>\n",
       "      <td>Gravity</td>\n",
       "      <td>69</td>\n",
       "    </tr>\n",
       "    <tr>\n",
       "      <th>5</th>\n",
       "      <td>Bee</td>\n",
       "      <td>65</td>\n",
       "    </tr>\n",
       "    <tr>\n",
       "      <th>6</th>\n",
       "      <td>Alex</td>\n",
       "      <td>64</td>\n",
       "    </tr>\n",
       "    <tr>\n",
       "      <th>7</th>\n",
       "      <td>Dusadee</td>\n",
       "      <td>62</td>\n",
       "    </tr>\n",
       "    <tr>\n",
       "      <th>8</th>\n",
       "      <td>Zuzu</td>\n",
       "      <td>59</td>\n",
       "    </tr>\n",
       "    <tr>\n",
       "      <th>9</th>\n",
       "      <td>George</td>\n",
       "      <td>58</td>\n",
       "    </tr>\n",
       "  </tbody>\n",
       "</table>\n",
       "</div>"
      ],
      "text/plain": [
       "  host_name  P_Count\n",
       "0     Curry      207\n",
       "1     Noons       91\n",
       "2         K       86\n",
       "3  Pornchai       74\n",
       "4   Gravity       69\n",
       "5       Bee       65\n",
       "6      Alex       64\n",
       "7   Dusadee       62\n",
       "8      Zuzu       59\n",
       "9    George       58"
      ]
     },
     "execution_count": 49,
     "metadata": {},
     "output_type": "execute_result"
    }
   ],
   "source": [
    "#setting figure size for future visualizations\n",
    "sns.set(rc={'figure.figsize': (10, 8)})\n",
    "sns.set_style('white')\n",
    "\n",
    "top_host_df=pd.DataFrame(top_host)\n",
    "top_host_df.reset_index(inplace=True)\n",
    "top_host_df.rename(columns={'index': 'host_name',\n",
    "                   'host_name': 'P_Count'}, inplace=True)\n",
    "top_host_df"
   ]
  },
  {
   "cell_type": "code",
   "execution_count": 43,
   "metadata": {},
   "outputs": [
    {
     "data": {
      "text/plain": [
       "[Text(0, 0, 'Curry'),\n",
       " Text(1, 0, 'Noons'),\n",
       " Text(2, 0, 'K'),\n",
       " Text(3, 0, 'Pornchai'),\n",
       " Text(4, 0, 'Gravity'),\n",
       " Text(5, 0, 'Bee'),\n",
       " Text(6, 0, 'Alex'),\n",
       " Text(7, 0, 'Dusadee'),\n",
       " Text(8, 0, 'Zuzu'),\n",
       " Text(9, 0, 'George')]"
      ]
     },
     "execution_count": 43,
     "metadata": {},
     "output_type": "execute_result"
    },
    {
     "data": {
      "image/png": "[encoded data removed]",
      "text/plain": [
       "<Figure size 1000x800 with 1 Axes>"
      ]
     },
     "metadata": {},
     "output_type": "display_data"
    }
   ],
   "source": [
    "viz_1 = sns.barplot(x=\"host_name\", y=\"P_Count\",\n",
    "                    data=top_host_df, palette='dark:#5A9_r')\n",
    "viz_1.set_title('Hosts with the most listings in BKK')\n",
    "viz_1.set_ylabel('Count of listings')\n",
    "viz_1.set_xlabel('Host Names')\n",
    "viz_1.set_xticklabels(viz_1.get_xticklabels())\n"
   ]
  },
  {
   "cell_type": "markdown",
   "metadata": {},
   "source": []
  },
  {
   "cell_type": "markdown",
   "metadata": {},
   "source": [
    "#as we saw earlier from unique values for neighbourhood there are way too many to concentrate on;\n",
    "#therefore, let's grab just top 10 neighbourhoods that have the most listings in them"
   ]
  },
  {
   "cell_type": "code",
   "execution_count": 44,
   "metadata": {},
   "outputs": [
    {
     "data": {
      "text/plain": [
       "Khlong Toei     2101\n",
       "Vadhana         2093\n",
       "Ratchathewi     1082\n",
       "Huai Khwang     1079\n",
       "Bang Rak         835\n",
       "Sathon           754\n",
       "Bang Na          686\n",
       "Phra Nakhon      592\n",
       "Phra Khanong     575\n",
       "Chatu Chak       541\n",
       "Name: neighbourhood, dtype: int64"
      ]
     },
     "execution_count": 44,
     "metadata": {},
     "output_type": "execute_result"
    }
   ],
   "source": [
    "#finding out top 10 neighbourhoods\n",
    "airbnb.neighbourhood.value_counts().head(10)\n"
   ]
  },
  {
   "cell_type": "code",
   "execution_count": 45,
   "metadata": {},
   "outputs": [],
   "source": [
    "#creating a sub-dataframe with no extreme values / less than 500\n",
    "sub_6=airbnb[airbnb.price < 500]"
   ]
  },
  {
   "cell_type": "code",
   "execution_count": 46,
   "metadata": {},
   "outputs": [
    {
     "data": {
      "text/plain": [
       "<seaborn.axisgrid.FacetGrid at 0x275bf54bd60>"
      ]
     },
     "execution_count": 46,
     "metadata": {},
     "output_type": "execute_result"
    },
    {
     "data": {
      "image/png": "[encoded data removed]",
      "text/plain": [
       "<Figure size 2000x500 with 4 Axes>"
      ]
     },
     "metadata": {},
     "output_type": "display_data"
    }
   ],
   "source": [
    "#let's now combine this with our boroughs and room type for a rich visualization we can make\n",
    "\n",
    "#grabbing top 10 neighbourhoods for sub-dataframe\n",
    "sub_7 = airbnb.loc[airbnb['neighbourhood'].isin(['Khlong Toei', 'Vadhana', 'Ratchathewi', 'Huai Khwang',\n",
    "                                                 'Bang Rak', 'Sathon', 'Bang Na', 'Phra Nakhon', 'Phra Khanong', 'Chatu Chak'])]\n",
    "#using catplot to represent multiple interesting attributes together and a count\n",
    "viz_3 = sns.catplot(x='neighbourhood', hue='neighbourhood',\n",
    "                    col='room_type', data=sub_7, kind='count')\n",
    "viz_3.set_xticklabels(rotation=90)\n"
   ]
  },
  {
   "cell_type": "code",
   "execution_count": 47,
   "metadata": {},
   "outputs": [
    {
     "ename": "TypeError",
     "evalue": "unhashable type: 'LinearSegmentedColormap'",
     "output_type": "error",
     "traceback": [
      "\u001b[1;31m---------------------------------------------------------------------------\u001b[0m",
      "\u001b[1;31mTypeError\u001b[0m                                 Traceback (most recent call last)",
      "Cell \u001b[1;32mIn [47], line 4\u001b[0m\n\u001b[0;32m      1\u001b[0m \u001b[38;5;66;03m#let's what we can do with our given longtitude and latitude columns\u001b[39;00m\n\u001b[0;32m      2\u001b[0m \n\u001b[0;32m      3\u001b[0m \u001b[38;5;66;03m#let's see how scatterplot will come out\u001b[39;00m\n\u001b[1;32m----> 4\u001b[0m viz_4 \u001b[38;5;241m=\u001b[39m \u001b[43msub_6\u001b[49m\u001b[38;5;241;43m.\u001b[39;49m\u001b[43mplot\u001b[49m\u001b[43m(\u001b[49m\u001b[43mkind\u001b[49m\u001b[38;5;241;43m=\u001b[39;49m\u001b[38;5;124;43m'\u001b[39;49m\u001b[38;5;124;43mscatter\u001b[39;49m\u001b[38;5;124;43m'\u001b[39;49m\u001b[43m,\u001b[49m\u001b[43m \u001b[49m\u001b[43mx\u001b[49m\u001b[38;5;241;43m=\u001b[39;49m\u001b[38;5;124;43m'\u001b[39;49m\u001b[38;5;124;43mlongitude\u001b[39;49m\u001b[38;5;124;43m'\u001b[39;49m\u001b[43m,\u001b[49m\u001b[43m \u001b[49m\u001b[43my\u001b[49m\u001b[38;5;241;43m=\u001b[39;49m\u001b[38;5;124;43m'\u001b[39;49m\u001b[38;5;124;43mlatitude\u001b[39;49m\u001b[38;5;124;43m'\u001b[39;49m\u001b[43m,\u001b[49m\u001b[43m \u001b[49m\u001b[43mlabel\u001b[49m\u001b[38;5;241;43m=\u001b[39;49m\u001b[38;5;124;43m'\u001b[39;49m\u001b[38;5;124;43mavailability_365\u001b[39;49m\u001b[38;5;124;43m'\u001b[39;49m\u001b[43m,\u001b[49m\u001b[43m \u001b[49m\u001b[43mc\u001b[49m\u001b[38;5;241;43m=\u001b[39;49m\u001b[38;5;124;43m'\u001b[39;49m\u001b[38;5;124;43mprice\u001b[39;49m\u001b[38;5;124;43m'\u001b[39;49m\u001b[43m,\u001b[49m\n\u001b[0;32m      5\u001b[0m \u001b[43m                   \u001b[49m\u001b[43mcmap\u001b[49m\u001b[38;5;241;43m=\u001b[39;49m\u001b[43mplt\u001b[49m\u001b[38;5;241;43m.\u001b[39;49m\u001b[43mget_cmap\u001b[49m\u001b[43m(\u001b[49m\u001b[38;5;124;43m'\u001b[39;49m\u001b[38;5;124;43mjet\u001b[39;49m\u001b[38;5;124;43m'\u001b[39;49m\u001b[43m)\u001b[49m\u001b[43m,\u001b[49m\u001b[43m \u001b[49m\u001b[43mcolorbar\u001b[49m\u001b[38;5;241;43m=\u001b[39;49m\u001b[38;5;28;43;01mTrue\u001b[39;49;00m\u001b[43m,\u001b[49m\u001b[43m \u001b[49m\u001b[43malpha\u001b[49m\u001b[38;5;241;43m=\u001b[39;49m\u001b[38;5;241;43m0.4\u001b[39;49m\u001b[43m,\u001b[49m\u001b[43m \u001b[49m\u001b[43mfigsize\u001b[49m\u001b[38;5;241;43m=\u001b[39;49m\u001b[43m(\u001b[49m\u001b[38;5;241;43m10\u001b[39;49m\u001b[43m,\u001b[49m\u001b[43m \u001b[49m\u001b[38;5;241;43m8\u001b[39;49m\u001b[43m)\u001b[49m\u001b[43m)\u001b[49m\n\u001b[0;32m      6\u001b[0m viz_4\u001b[38;5;241m.\u001b[39mlegend()\n",
      "File \u001b[1;32mc:\\Users\\PC\\AppData\\Local\\Programs\\Python\\Python39\\lib\\site-packages\\pandas\\plotting\\_core.py:945\u001b[0m, in \u001b[0;36mPlotAccessor.__call__\u001b[1;34m(self, *args, **kwargs)\u001b[0m\n\u001b[0;32m    943\u001b[0m \u001b[39mif\u001b[39;00m kind \u001b[39min\u001b[39;00m \u001b[39mself\u001b[39m\u001b[39m.\u001b[39m_dataframe_kinds:\n\u001b[0;32m    944\u001b[0m     \u001b[39mif\u001b[39;00m \u001b[39misinstance\u001b[39m(data, ABCDataFrame):\n\u001b[1;32m--> 945\u001b[0m         \u001b[39mreturn\u001b[39;00m plot_backend\u001b[39m.\u001b[39mplot(data, x\u001b[39m=\u001b[39mx, y\u001b[39m=\u001b[39my, kind\u001b[39m=\u001b[39mkind, \u001b[39m*\u001b[39m\u001b[39m*\u001b[39mkwargs)\n\u001b[0;32m    946\u001b[0m     \u001b[39melse\u001b[39;00m:\n\u001b[0;32m    947\u001b[0m         \u001b[39mraise\u001b[39;00m \u001b[39mValueError\u001b[39;00m(\u001b[39mf\u001b[39m\u001b[39m\"\u001b[39m\u001b[39mplot kind \u001b[39m\u001b[39m{\u001b[39;00mkind\u001b[39m}\u001b[39;00m\u001b[39m can only be used for data frames\u001b[39m\u001b[39m\"\u001b[39m)\n",
      "File \u001b[1;32mc:\\Users\\PC\\AppData\\Local\\Programs\\Python\\Python39\\lib\\site-packages\\pandas\\plotting\\_matplotlib\\__init__.py:71\u001b[0m, in \u001b[0;36mplot\u001b[1;34m(data, kind, **kwargs)\u001b[0m\n\u001b[0;32m     69\u001b[0m         kwargs[\u001b[39m\"\u001b[39m\u001b[39max\u001b[39m\u001b[39m\"\u001b[39m] \u001b[39m=\u001b[39m \u001b[39mgetattr\u001b[39m(ax, \u001b[39m\"\u001b[39m\u001b[39mleft_ax\u001b[39m\u001b[39m\"\u001b[39m, ax)\n\u001b[0;32m     70\u001b[0m plot_obj \u001b[39m=\u001b[39m PLOT_CLASSES[kind](data, \u001b[39m*\u001b[39m\u001b[39m*\u001b[39mkwargs)\n\u001b[1;32m---> 71\u001b[0m plot_obj\u001b[39m.\u001b[39;49mgenerate()\n\u001b[0;32m     72\u001b[0m plot_obj\u001b[39m.\u001b[39mdraw()\n\u001b[0;32m     73\u001b[0m \u001b[39mreturn\u001b[39;00m plot_obj\u001b[39m.\u001b[39mresult\n",
      "File \u001b[1;32mc:\\Users\\PC\\AppData\\Local\\Programs\\Python\\Python39\\lib\\site-packages\\pandas\\plotting\\_matplotlib\\core.py:452\u001b[0m, in \u001b[0;36mMPLPlot.generate\u001b[1;34m(self)\u001b[0m\n\u001b[0;32m    450\u001b[0m \u001b[39mself\u001b[39m\u001b[39m.\u001b[39m_compute_plot_data()\n\u001b[0;32m    451\u001b[0m \u001b[39mself\u001b[39m\u001b[39m.\u001b[39m_setup_subplots()\n\u001b[1;32m--> 452\u001b[0m \u001b[39mself\u001b[39;49m\u001b[39m.\u001b[39;49m_make_plot()\n\u001b[0;32m    453\u001b[0m \u001b[39mself\u001b[39m\u001b[39m.\u001b[39m_add_table()\n\u001b[0;32m    454\u001b[0m \u001b[39mself\u001b[39m\u001b[39m.\u001b[39m_make_legend()\n",
      "File \u001b[1;32mc:\\Users\\PC\\AppData\\Local\\Programs\\Python\\Python39\\lib\\site-packages\\pandas\\plotting\\_matplotlib\\core.py:1225\u001b[0m, in \u001b[0;36mScatterPlot._make_plot\u001b[1;34m(self)\u001b[0m\n\u001b[0;32m   1223\u001b[0m \u001b[39mif\u001b[39;00m \u001b[39mself\u001b[39m\u001b[39m.\u001b[39mcolormap \u001b[39mis\u001b[39;00m \u001b[39mnot\u001b[39;00m \u001b[39mNone\u001b[39;00m:\n\u001b[0;32m   1224\u001b[0m     \u001b[39mif\u001b[39;00m mpl_ge_3_6_0():\n\u001b[1;32m-> 1225\u001b[0m         cmap \u001b[39m=\u001b[39m mpl\u001b[39m.\u001b[39;49mcolormaps[\u001b[39mself\u001b[39;49m\u001b[39m.\u001b[39;49mcolormap]\n\u001b[0;32m   1226\u001b[0m     \u001b[39melse\u001b[39;00m:\n\u001b[0;32m   1227\u001b[0m         cmap \u001b[39m=\u001b[39m \u001b[39mself\u001b[39m\u001b[39m.\u001b[39mplt\u001b[39m.\u001b[39mcm\u001b[39m.\u001b[39mget_cmap(\u001b[39mself\u001b[39m\u001b[39m.\u001b[39mcolormap)\n",
      "File \u001b[1;32mc:\\Users\\PC\\AppData\\Local\\Programs\\Python\\Python39\\lib\\site-packages\\matplotlib\\cm.py:93\u001b[0m, in \u001b[0;36mColormapRegistry.__getitem__\u001b[1;34m(self, item)\u001b[0m\n\u001b[0;32m     91\u001b[0m \u001b[39mdef\u001b[39;00m \u001b[39m__getitem__\u001b[39m(\u001b[39mself\u001b[39m, item):\n\u001b[0;32m     92\u001b[0m     \u001b[39mtry\u001b[39;00m:\n\u001b[1;32m---> 93\u001b[0m         \u001b[39mreturn\u001b[39;00m \u001b[39mself\u001b[39;49m\u001b[39m.\u001b[39;49m_cmaps[item]\u001b[39m.\u001b[39mcopy()\n\u001b[0;32m     94\u001b[0m     \u001b[39mexcept\u001b[39;00m \u001b[39mKeyError\u001b[39;00m:\n\u001b[0;32m     95\u001b[0m         \u001b[39mraise\u001b[39;00m \u001b[39mKeyError\u001b[39;00m(\u001b[39mf\u001b[39m\u001b[39m\"\u001b[39m\u001b[39m{\u001b[39;00mitem\u001b[39m!r}\u001b[39;00m\u001b[39m is not a known colormap name\u001b[39m\u001b[39m\"\u001b[39m) \u001b[39mfrom\u001b[39;00m \u001b[39mNone\u001b[39m\n",
      "\u001b[1;31mTypeError\u001b[0m: unhashable type: 'LinearSegmentedColormap'"
     ]
    },
    {
     "data": {
      "image/png": "[encoded data removed]",
      "text/plain": [
       "<Figure size 1000x800 with 1 Axes>"
      ]
     },
     "metadata": {},
     "output_type": "display_data"
    }
   ],
   "source": [
    "#let's what we can do with our given longtitude and latitude columns\n",
    "\n",
    "#let's see how scatterplot will come out\n",
    "viz_4 = sub_6.plot(kind='scatter', x='longitude', y='latitude', label='availability_365', c='price',\n",
    "                   cmap=plt.get_cmap('jet'), colorbar=True, alpha=0.4, figsize=(10, 8))\n",
    "viz_4.legend()\n"
   ]
  }
 ],
 "metadata": {
  "kernelspec": {
   "display_name": "Python 3.9.13 64-bit",
   "language": "python",
   "name": "python3"
  },
  "language_info": {
   "codemirror_mode": {
    "name": "ipython",
    "version": 3
   },
   "file_extension": ".py",
   "mimetype": "text/x-python",
   "name": "python",
   "nbconvert_exporter": "python",
   "pygments_lexer": "ipython3",
   "version": "3.9.13"
  },
  "orig_nbformat": 4,
  "vscode": {
   "interpreter": {
    "hash": "f6c8f846148a3e4d140e6ddf63c190cff559dcf260a4a21539f0978f2b58638c"
   }
  }
 },
 "nbformat": 4,
 "nbformat_minor": 2
}
